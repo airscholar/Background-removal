{
  "cells": [
    {
      "cell_type": "code",
      "execution_count": null,
      "metadata": {
        "colab": {
          "base_uri": "https://localhost:8080/"
        },
        "id": "aC9gAYN4P5SN",
        "outputId": "e0b1bde5-6bf2-4d8c-f17e-35a2d077ce98"
      },
      "outputs": [],
      "source": [
        "!pip install pillow rembg"
      ]
    },
    {
      "cell_type": "code",
      "execution_count": 2,
      "metadata": {
        "id": "y10KizYjP7kA"
      },
      "outputs": [],
      "source": [
        "from rembg import remove\n",
        "from PIL import Image\n",
        "import requests\n",
        "from io import BytesIO"
      ]
    },
    {
      "cell_type": "code",
      "execution_count": 3,
      "metadata": {
        "id": "mFa8zpPYQMa3"
      },
      "outputs": [],
      "source": [
        "response = requests.get(\"https://cdn.pixabay.com/photo/2023/08/30/07/48/butterfly-8222796_1280.jpg\")"
      ]
    },
    {
      "cell_type": "code",
      "execution_count": 4,
      "metadata": {
        "id": "BNhRpWy5QXHd"
      },
      "outputs": [],
      "source": [
        "input = Image.open(BytesIO(response.content))"
      ]
    },
    {
      "cell_type": "code",
      "execution_count": 5,
      "metadata": {
        "id": "UHmQK6qtQfBr"
      },
      "outputs": [],
      "source": [
        "output = remove(input)"
      ]
    },
    {
      "cell_type": "code",
      "execution_count": 6,
      "metadata": {
        "colab": {
          "base_uri": "https://localhost:8080/",
          "height": 478
        },
        "id": "b7zGwOtoQq3u",
        "outputId": "e22cb403-9194-4424-d102-01f34dcc5996"
      },
      "outputs": [],
      "source": [
        "output.save(\"butterfly.png\")"
      ]
    }
  ],
  "metadata": {
    "colab": {
      "provenance": []
    },
    "kernelspec": {
      "display_name": "Python 3",
      "name": "python3"
    },
    "language_info": {
      "codemirror_mode": {
        "name": "ipython",
        "version": 3
      },
      "file_extension": ".py",
      "mimetype": "text/x-python",
      "name": "python",
      "nbconvert_exporter": "python",
      "pygments_lexer": "ipython3",
      "version": "3.10.8"
    }
  },
  "nbformat": 4,
  "nbformat_minor": 0
}
